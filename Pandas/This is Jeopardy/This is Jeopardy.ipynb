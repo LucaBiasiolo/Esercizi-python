{
 "cells": [
  {
   "cell_type": "markdown",
   "metadata": {},
   "source": [
    "# This is Jeopardy!"
   ]
  },
  {
   "cell_type": "markdown",
   "metadata": {},
   "source": [
    "#### Overview"
   ]
  },
  {
   "cell_type": "markdown",
   "metadata": {},
   "source": [
    "This project is slightly different than others you have encountered thus far. Instead of a step-by-step tutorial, this project contains a series of open-ended requirements which describe the project you'll be building. There are many possible ways to correctly fulfill all of these requirements, and you should expect to use the internet, Codecademy, and/or other resources when you encounter a problem that you cannot easily solve."
   ]
  },
  {
   "cell_type": "markdown",
   "metadata": {},
   "source": [
    "#### Project Goals"
   ]
  },
  {
   "cell_type": "markdown",
   "metadata": {},
   "source": [
    "You will work to write several functions that investigate a dataset of _Jeopardy!_ questions and answers. Filter the dataset for topics that you're interested in, compute the average difficulty of those questions, and train to become the next Jeopardy champion!"
   ]
  },
  {
   "cell_type": "markdown",
   "metadata": {},
   "source": [
    "## Prerequisites"
   ]
  },
  {
   "cell_type": "markdown",
   "metadata": {},
   "source": [
    "In order to complete this project, you should have completed the Pandas lessons in the <a href=\"https://www.codecademy.com/learn/paths/analyze-data-with-python\">Analyze Data with Python Skill Path</a>. You can also find those lessons in the <a href=\"https://www.codecademy.com/learn/data-processing-pandas\">Data Analysis with Pandas course</a> or the <a href=\"https://www.codecademy.com/learn/paths/data-science/\">Data Scientist Career Path</a>.\n",
    "\n",
    "Finally, the <a href=\"https://www.codecademy.com/learn/practical-data-cleaning\">Practical Data Cleaning</a> course may also be helpful."
   ]
  },
  {
   "cell_type": "markdown",
   "metadata": {},
   "source": [
    "## Project Requirements"
   ]
  },
  {
   "cell_type": "markdown",
   "metadata": {},
   "source": [
    "1. We've provided a csv file containing data about the game show _Jeopardy!_ in a file named `jeopardy.csv`. Load the data into a DataFrame and investigate its contents. Try to print out specific columns.\n",
    "\n",
    "   Note that in order to make this project as \"real-world\" as possible, we haven't modified the data at all - we're giving it to you exactly how we found it. As a result, this data isn't as \"clean\" as the datasets you normally find on Codecademy. More specifically, there's something odd about the column names. After you figure out the problem with the column names, you may want to rename them to make your life easier for the rest of the project.\n",
    "   \n",
    "   In order to display the full contents of a column, we've added this line of code for you:\n",
    "   \n",
    "   ```py\n",
    "   pd.set_option('display.max_colwidth', None)\n",
    "   ```"
   ]
  },
  {
   "cell_type": "code",
   "execution_count": 2,
   "metadata": {},
   "outputs": [
    {
     "name": "stdout",
     "output_type": "stream",
     "text": [
      "   show_number    air_date      round                         category value  \\\n",
      "0         4680  2004-12-31  Jeopardy!                          HISTORY  $200   \n",
      "1         4680  2004-12-31  Jeopardy!  ESPN's TOP 10 ALL-TIME ATHLETES  $200   \n",
      "2         4680  2004-12-31  Jeopardy!      EVERYBODY TALKS ABOUT IT...  $200   \n",
      "3         4680  2004-12-31  Jeopardy!                 THE COMPANY LINE  $200   \n",
      "4         4680  2004-12-31  Jeopardy!              EPITAPHS & TRIBUTES  $200   \n",
      "5         4680  2004-12-31  Jeopardy!                   3-LETTER WORDS  $200   \n",
      "6         4680  2004-12-31  Jeopardy!                          HISTORY  $400   \n",
      "7         4680  2004-12-31  Jeopardy!  ESPN's TOP 10 ALL-TIME ATHLETES  $400   \n",
      "8         4680  2004-12-31  Jeopardy!      EVERYBODY TALKS ABOUT IT...  $400   \n",
      "9         4680  2004-12-31  Jeopardy!                 THE COMPANY LINE  $400   \n",
      "\n",
      "                                            question          answer  \n",
      "0  For the last 8 years of his life, Galileo was ...      Copernicus  \n",
      "1  No. 2: 1912 Olympian; football star at Carlisl...      Jim Thorpe  \n",
      "2  The city of Yuma in this state has a record av...         Arizona  \n",
      "3  In 1963, live on \"The Art Linkletter Show\", th...      McDonald's  \n",
      "4  Signer of the Dec. of Indep., framer of the Co...      John Adams  \n",
      "5  In the title of an Aesop fable, this insect sh...         the ant  \n",
      "6  Built in 312 B.C. to link Rome & the South of ...  the Appian Way  \n",
      "7  No. 8: 30 steals for the Birmingham Barons; 2,...  Michael Jordan  \n",
      "8  In the winter of 1971-72, a record 1,122 inche...      Washington  \n",
      "9  This housewares store was named for the packag...  Crate & Barrel  \n"
     ]
    }
   ],
   "source": [
    "import pandas as pd\n",
    "#pd.set_option('display.max_colwidth', None)\n",
    "\n",
    "jeopardy_dataset = pd.read_csv('jeopardy.csv')\n",
    "jeopardy_dataset.columns = jeopardy_dataset.columns.str.strip()\n",
    "jeopardy_dataset.rename(columns={'Show Number':'show_number', 'Air Date':'air_date','Round':'round','Category':'category','Value':'value','Question':'question','Answer':'answer'}, inplace=True)\n",
    "print(jeopardy_dataset.head(10))"
   ]
  },
  {
   "cell_type": "markdown",
   "metadata": {},
   "source": [
    "2. Write a function that filters the dataset for questions that contains all of the words in a list of words. For example, when the list `[\"King\", \"England\"]` was passed to our function, the function returned a DataFrame of 49 rows. Every row had the strings `\"King\"` and `\"England\"` somewhere in its `\" Question\"`.\n",
    "\n",
    "   Test your function by printing out the column containing the question of each row of the dataset."
   ]
  },
  {
   "cell_type": "code",
   "execution_count": 3,
   "metadata": {},
   "outputs": [
    {
     "name": "stdout",
     "output_type": "stream",
     "text": [
      "        show_number    air_date             round  \\\n",
      "605            4107  2002-06-11         Jeopardy!   \n",
      "785            4335  2003-06-06         Jeopardy!   \n",
      "7439           5094  2006-11-02  Double Jeopardy!   \n",
      "8002           3547  2000-01-25  Double Jeopardy!   \n",
      "9173           3907  2001-09-04  Double Jeopardy!   \n",
      "11920          3139  1998-04-02  Double Jeopardy!   \n",
      "15502          3272  1998-11-24  Double Jeopardy!   \n",
      "32152          3463  1999-09-29  Double Jeopardy!   \n",
      "34004          3179  1998-05-28         Jeopardy!   \n",
      "36986          4207  2002-12-10  Double Jeopardy!   \n",
      "38440          6270  2011-12-16         Jeopardy!   \n",
      "41665          3613  2000-04-26         Jeopardy!   \n",
      "53158          4813  2005-07-06         Jeopardy!   \n",
      "60196          6132  2011-04-19  Double Jeopardy!   \n",
      "60771          5262  2007-06-26         Jeopardy!   \n",
      "61228          6004  2010-10-21         Jeopardy!   \n",
      "73782          5975  2010-07-30  Double Jeopardy!   \n",
      "90991          3349  1999-03-11         Jeopardy!   \n",
      "108545         6082  2011-02-08  Double Jeopardy!   \n",
      "114511         3567  2000-02-22  Double Jeopardy!   \n",
      "115418         3972  2001-12-04  Double Jeopardy!   \n",
      "115917         2898  1997-03-19         Jeopardy!   \n",
      "134510         3920  2001-09-21  Double Jeopardy!   \n",
      "141228         4638  2004-11-04  Double Jeopardy!   \n",
      "148564         2867  1997-02-04  Double Jeopardy!   \n",
      "150399         3383  1999-04-28  Double Jeopardy!   \n",
      "155098         5844  2010-01-28         Jeopardy!   \n",
      "163299         5185  2007-03-09  Double Jeopardy!   \n",
      "178877         4288  2003-04-02         Jeopardy!   \n",
      "181908         5940  2010-06-11  Double Jeopardy!   \n",
      "188908         5985  2010-09-24         Jeopardy!   \n",
      "195259         1296  1990-04-02         Jeopardy!   \n",
      "197585         4568  2004-06-16  Double Jeopardy!   \n",
      "199636         1252  1990-01-30  Double Jeopardy!   \n",
      "213420         5092  2006-10-31         Jeopardy!   \n",
      "214278         5031  2006-06-26  Double Jeopardy!   \n",
      "\n",
      "                                  category  value  \\\n",
      "605                          ROCK WITH YOU   $400   \n",
      "785            ON THE COVER OF SGT. PEPPER   $400   \n",
      "7439    I'VE TRAVELED EACH & EVERY HIGHWAY   $400   \n",
      "8002                        MODERN \"TIME\"S  $1000   \n",
      "9173                    IN A FESTIVAL MOOD   $200   \n",
      "11920                  GONE WITH THE WINDS   $200   \n",
      "15502                          BIRTHPLACES   $800   \n",
      "32152                    SONGS OF THE '60s   $800   \n",
      "34004                            '60s ROCK   $100   \n",
      "36986                  ROCK AROUND AMERICA  $2000   \n",
      "38440                         CANADA ROCKS   $200   \n",
      "41665                       \"SUB\" CATEGORY   $500   \n",
      "53158                       INSPIRED SONGS  $1000   \n",
      "60196                        \"WONDER\" LAND  $2000   \n",
      "60771                               \"M.G.\"  $1000   \n",
      "61228                          THINK TWICE   $200   \n",
      "73782                       SAY WHAT, BOB?   $400   \n",
      "90991                               AD AGE   $100   \n",
      "108545           STATE UNIVERSITY BY ALUMS  $1200   \n",
      "114511                              \"J.P.\"   $600   \n",
      "115418                    WHERE TO, BUDDY?  $1200   \n",
      "115917                               SONGS   $100   \n",
      "134510                      MUSICAL FLYERS   $600   \n",
      "141228              TOP OF THE CHARTS, MA!  $1200   \n",
      "148564                         SONG LYRICS   $600   \n",
      "150399                      CITIES IN SONG   $800   \n",
      "155098                 MUSICAL INSTRUMENTS   $200   \n",
      "163299          DESCRIPTIONS & DEFINITIONS  $1200   \n",
      "178877                        GIMME AN \"F\"   $600   \n",
      "181908        LYRICAL POSTAL ABBREVIATIONS  $2000   \n",
      "188908                     SONG HITS FOR 2  $1000   \n",
      "195259                   SONGS OF THE '60S   $500   \n",
      "197585                          FOLK MUSIC   $800   \n",
      "199636                        FAMOUS NAMES  $1000   \n",
      "213420                      LET'S \"TRAVEL\"   $600   \n",
      "214278                     MUSICAL NUMBERS   $800   \n",
      "\n",
      "                                                 question  \\\n",
      "605     Jakob Dylan, the son of Bob Dylan, is the fron...   \n",
      "785     Bob Dylan appears as does this poet from whom ...   \n",
      "7439    This highway that Bob Dylan \"Revisited\" begins...   \n",
      "8002    Bob Dylan's 1964 hit song about the inevitable...   \n",
      "9173    In July 1965 Bob Dylan was booed at the Newpor...   \n",
      "11920   According to Bob Dylan, it's what's \"Blowin' I...   \n",
      "15502   Famous sons of this Minnesota city where Bob D...   \n",
      "32152                     Bob Dylan numbered them 12 & 35   \n",
      "34004   Bob Dylan & Dion were the only 2 other rock si...   \n",
      "36986   Gary Puckett was born in this Minnesota town w...   \n",
      "38440   Toronto-born Robbie Robertson was part of the ...   \n",
      "41665   Bob Dylan was no longer \"underground\" with thi...   \n",
      "53158   (<a href=\"http://www.j-archive.com/media/2005-...   \n",
      "60196   Bob Dylan won an Oscar for the song \"Things Ha...   \n",
      "60771   He's the graphic design legend who created the...   \n",
      "61228   Bob Dylan wrote \"Don't Think Twice, It's All R...   \n",
      "73782   In Bob Dylan's \"It's Alright, Ma\", \"The child'...   \n",
      "90991   Bob Dylan, Pablo Picasso & Albert Einstein \"Th...   \n",
      "108545  Bob Dylan, man of the heart Dr. Christiaan Bar...   \n",
      "114511  This leather-clad metal band took its name fro...   \n",
      "115418  (Alex: Now, we'll hear from Sofia)  567 Hudson...   \n",
      "115917  Bob Dylan asked him to \"Play a song for me, in...   \n",
      "134510  In 1965 this group flew straight to the top of...   \n",
      "141228  Soloists on this 1985 song include Lionel Rich...   \n",
      "148564  Bob Dylan wrote, \"How does it feel to be witho...   \n",
      "150399  Bob Dylan sang \"Stuck inside of\" this Alabama ...   \n",
      "155098  Bob Dylan often plays one of these, also calle...   \n",
      "163299  As stated by Samuel Johnson & quoted by Bob Dy...   \n",
      "178877  In 1985 Bob Dylan went to Philadelphia for Liv...   \n",
      "181908  Bob Dylan: \"So don't fear if you hear a foreig...   \n",
      "188908           Bob Dylan in 1973; Guns N' Roses in 1991   \n",
      "195259  They had No. 1 hits with Bob Dylan's \"Mr. Tamb...   \n",
      "197585  Bob Dylan's first LP had 2 original songs: \"Ta...   \n",
      "199636  As Bob Dylan could tell you, this German surna...   \n",
      "213420  Formed in Bob Dylan's garage, this supergroup ...   \n",
      "214278                  Bob Dylan: \"Highway __ Revisited\"   \n",
      "\n",
      "                                       answer  \n",
      "605                           The Wallflowers  \n",
      "785                              Dylan Thomas  \n",
      "7439                               Highway 61  \n",
      "8002          \"The Times They Are a-Changin'\"  \n",
      "9173                               Folk Music  \n",
      "11920                   the answer, my friend  \n",
      "15502                                 Hibbing  \n",
      "32152                       \"Rainy Day Women\"  \n",
      "34004   Sgt. Pepper's Lonely Hearts Club Band  \n",
      "36986                                 Hibbing  \n",
      "38440                                The Band  \n",
      "41665           \"Subterranean Homesick Blues\"  \n",
      "53158                              Joey Gallo  \n",
      "60196                             Wonder Boys  \n",
      "60771                           Milton Glaser  \n",
      "61228                    Peter, Paul and Mary  \n",
      "73782                                the moon  \n",
      "90991                                   Apple  \n",
      "108545            The University of Minnesota  \n",
      "114511                           Judas Priest  \n",
      "115418                           Dylan Thomas  \n",
      "115917                     Mr. Tambourine Man  \n",
      "134510                              The Byrds  \n",
      "141228                     \"We Are The World\"  \n",
      "148564                        A Rolling Stone  \n",
      "150399                                 Mobile  \n",
      "155098                              harmonica  \n",
      "163299                             patriotism  \n",
      "178877                               Farm Aid  \n",
      "181908                 Massachusetts (for Ma)  \n",
      "188908            \"Knockin' On Heaven's Door\"  \n",
      "195259                              The Byrds  \n",
      "197585                          Woody Guthrie  \n",
      "199636                              Zimmerman  \n",
      "213420                 the Traveling Wilburys  \n",
      "214278                                     61  \n",
      "36\n"
     ]
    }
   ],
   "source": [
    "import pandas as pd\n",
    "from pandas import DataFrame\n",
    "\n",
    "\n",
    "def filter_dataset_list_words(dataset: DataFrame,list_words: list[str]):\n",
    "    for word in list_words:\n",
    "        dataset = dataset[dataset.question.str.contains(word)]\n",
    "    return dataset\n",
    "\n",
    "questions_filtered = filter_dataset_list_words(jeopardy_dataset,['Bob','Dylan'])\n",
    "print(questions_filtered)\n",
    "print(len(questions_filtered))"
   ]
  },
  {
   "cell_type": "markdown",
   "metadata": {},
   "source": [
    "3. Test your original function with a few different sets of words to try to find some ways your function breaks. Edit your function so it is more robust.\n",
    "\n",
    "   For example, think about capitalization. We probably want to find questions that contain the word `\"King\"` or `\"king\"`.\n",
    "   \n",
    "   You may also want to check to make sure you don't find rows that contain substrings of your given words. For example, our function found a question that didn't contain the word `\"king\"`, however it did contain the word `\"viking\"` &mdash; it found the `\"king\"` inside `\"viking\"`. Note that this also comes with some drawbacks &mdash; you would no longer find questions that contained words like `\"England's\"`."
   ]
  },
  {
   "cell_type": "code",
   "execution_count": 18,
   "metadata": {},
   "outputs": [
    {
     "name": "stdout",
     "output_type": "stream",
     "text": [
      "        show_number    air_date             round  \\\n",
      "605            4107  2002-06-11         Jeopardy!   \n",
      "785            4335  2003-06-06         Jeopardy!   \n",
      "7439           5094  2006-11-02  Double Jeopardy!   \n",
      "8002           3547  2000-01-25  Double Jeopardy!   \n",
      "9173           3907  2001-09-04  Double Jeopardy!   \n",
      "11920          3139  1998-04-02  Double Jeopardy!   \n",
      "15502          3272  1998-11-24  Double Jeopardy!   \n",
      "32152          3463  1999-09-29  Double Jeopardy!   \n",
      "34004          3179  1998-05-28         Jeopardy!   \n",
      "36986          4207  2002-12-10  Double Jeopardy!   \n",
      "38440          6270  2011-12-16         Jeopardy!   \n",
      "41665          3613  2000-04-26         Jeopardy!   \n",
      "53158          4813  2005-07-06         Jeopardy!   \n",
      "60196          6132  2011-04-19  Double Jeopardy!   \n",
      "60771          5262  2007-06-26         Jeopardy!   \n",
      "61228          6004  2010-10-21         Jeopardy!   \n",
      "73782          5975  2010-07-30  Double Jeopardy!   \n",
      "90991          3349  1999-03-11         Jeopardy!   \n",
      "108545         6082  2011-02-08  Double Jeopardy!   \n",
      "114511         3567  2000-02-22  Double Jeopardy!   \n",
      "115418         3972  2001-12-04  Double Jeopardy!   \n",
      "115917         2898  1997-03-19         Jeopardy!   \n",
      "134510         3920  2001-09-21  Double Jeopardy!   \n",
      "141228         4638  2004-11-04  Double Jeopardy!   \n",
      "148564         2867  1997-02-04  Double Jeopardy!   \n",
      "150399         3383  1999-04-28  Double Jeopardy!   \n",
      "155098         5844  2010-01-28         Jeopardy!   \n",
      "163299         5185  2007-03-09  Double Jeopardy!   \n",
      "178877         4288  2003-04-02         Jeopardy!   \n",
      "181908         5940  2010-06-11  Double Jeopardy!   \n",
      "188908         5985  2010-09-24         Jeopardy!   \n",
      "195259         1296  1990-04-02         Jeopardy!   \n",
      "197585         4568  2004-06-16  Double Jeopardy!   \n",
      "199636         1252  1990-01-30  Double Jeopardy!   \n",
      "213420         5092  2006-10-31         Jeopardy!   \n",
      "214278         5031  2006-06-26  Double Jeopardy!   \n",
      "\n",
      "                                  category  value  \\\n",
      "605                          ROCK WITH YOU   $400   \n",
      "785            ON THE COVER OF SGT. PEPPER   $400   \n",
      "7439    I'VE TRAVELED EACH & EVERY HIGHWAY   $400   \n",
      "8002                        MODERN \"TIME\"S  $1000   \n",
      "9173                    IN A FESTIVAL MOOD   $200   \n",
      "11920                  GONE WITH THE WINDS   $200   \n",
      "15502                          BIRTHPLACES   $800   \n",
      "32152                    SONGS OF THE '60s   $800   \n",
      "34004                            '60s ROCK   $100   \n",
      "36986                  ROCK AROUND AMERICA  $2000   \n",
      "38440                         CANADA ROCKS   $200   \n",
      "41665                       \"SUB\" CATEGORY   $500   \n",
      "53158                       INSPIRED SONGS  $1000   \n",
      "60196                        \"WONDER\" LAND  $2000   \n",
      "60771                               \"M.G.\"  $1000   \n",
      "61228                          THINK TWICE   $200   \n",
      "73782                       SAY WHAT, BOB?   $400   \n",
      "90991                               AD AGE   $100   \n",
      "108545           STATE UNIVERSITY BY ALUMS  $1200   \n",
      "114511                              \"J.P.\"   $600   \n",
      "115418                    WHERE TO, BUDDY?  $1200   \n",
      "115917                               SONGS   $100   \n",
      "134510                      MUSICAL FLYERS   $600   \n",
      "141228              TOP OF THE CHARTS, MA!  $1200   \n",
      "148564                         SONG LYRICS   $600   \n",
      "150399                      CITIES IN SONG   $800   \n",
      "155098                 MUSICAL INSTRUMENTS   $200   \n",
      "163299          DESCRIPTIONS & DEFINITIONS  $1200   \n",
      "178877                        GIMME AN \"F\"   $600   \n",
      "181908        LYRICAL POSTAL ABBREVIATIONS  $2000   \n",
      "188908                     SONG HITS FOR 2  $1000   \n",
      "195259                   SONGS OF THE '60S   $500   \n",
      "197585                          FOLK MUSIC   $800   \n",
      "199636                        FAMOUS NAMES  $1000   \n",
      "213420                      LET'S \"TRAVEL\"   $600   \n",
      "214278                     MUSICAL NUMBERS   $800   \n",
      "\n",
      "                                                 question  \\\n",
      "605     Jakob Dylan, the son of Bob Dylan, is the fron...   \n",
      "785     Bob Dylan appears as does this poet from whom ...   \n",
      "7439    This highway that Bob Dylan \"Revisited\" begins...   \n",
      "8002    Bob Dylan's 1964 hit song about the inevitable...   \n",
      "9173    In July 1965 Bob Dylan was booed at the Newpor...   \n",
      "11920   According to Bob Dylan, it's what's \"Blowin' I...   \n",
      "15502   Famous sons of this Minnesota city where Bob D...   \n",
      "32152                     Bob Dylan numbered them 12 & 35   \n",
      "34004   Bob Dylan & Dion were the only 2 other rock si...   \n",
      "36986   Gary Puckett was born in this Minnesota town w...   \n",
      "38440   Toronto-born Robbie Robertson was part of the ...   \n",
      "41665   Bob Dylan was no longer \"underground\" with thi...   \n",
      "53158   (<a href=\"http://www.j-archive.com/media/2005-...   \n",
      "60196   Bob Dylan won an Oscar for the song \"Things Ha...   \n",
      "60771   He's the graphic design legend who created the...   \n",
      "61228   Bob Dylan wrote \"Don't Think Twice, It's All R...   \n",
      "73782   In Bob Dylan's \"It's Alright, Ma\", \"The child'...   \n",
      "90991   Bob Dylan, Pablo Picasso & Albert Einstein \"Th...   \n",
      "108545  Bob Dylan, man of the heart Dr. Christiaan Bar...   \n",
      "114511  This leather-clad metal band took its name fro...   \n",
      "115418  (Alex: Now, we'll hear from Sofia)  567 Hudson...   \n",
      "115917  Bob Dylan asked him to \"Play a song for me, in...   \n",
      "134510  In 1965 this group flew straight to the top of...   \n",
      "141228  Soloists on this 1985 song include Lionel Rich...   \n",
      "148564  Bob Dylan wrote, \"How does it feel to be witho...   \n",
      "150399  Bob Dylan sang \"Stuck inside of\" this Alabama ...   \n",
      "155098  Bob Dylan often plays one of these, also calle...   \n",
      "163299  As stated by Samuel Johnson & quoted by Bob Dy...   \n",
      "178877  In 1985 Bob Dylan went to Philadelphia for Liv...   \n",
      "181908  Bob Dylan: \"So don't fear if you hear a foreig...   \n",
      "188908           Bob Dylan in 1973; Guns N' Roses in 1991   \n",
      "195259  They had No. 1 hits with Bob Dylan's \"Mr. Tamb...   \n",
      "197585  Bob Dylan's first LP had 2 original songs: \"Ta...   \n",
      "199636  As Bob Dylan could tell you, this German surna...   \n",
      "213420  Formed in Bob Dylan's garage, this supergroup ...   \n",
      "214278                  Bob Dylan: \"Highway __ Revisited\"   \n",
      "\n",
      "                                       answer  \n",
      "605                           The Wallflowers  \n",
      "785                              Dylan Thomas  \n",
      "7439                               Highway 61  \n",
      "8002          \"The Times They Are a-Changin'\"  \n",
      "9173                               Folk Music  \n",
      "11920                   the answer, my friend  \n",
      "15502                                 Hibbing  \n",
      "32152                       \"Rainy Day Women\"  \n",
      "34004   Sgt. Pepper's Lonely Hearts Club Band  \n",
      "36986                                 Hibbing  \n",
      "38440                                The Band  \n",
      "41665           \"Subterranean Homesick Blues\"  \n",
      "53158                              Joey Gallo  \n",
      "60196                             Wonder Boys  \n",
      "60771                           Milton Glaser  \n",
      "61228                    Peter, Paul and Mary  \n",
      "73782                                the moon  \n",
      "90991                                   Apple  \n",
      "108545            The University of Minnesota  \n",
      "114511                           Judas Priest  \n",
      "115418                           Dylan Thomas  \n",
      "115917                     Mr. Tambourine Man  \n",
      "134510                              The Byrds  \n",
      "141228                     \"We Are The World\"  \n",
      "148564                        A Rolling Stone  \n",
      "150399                                 Mobile  \n",
      "155098                              harmonica  \n",
      "163299                             patriotism  \n",
      "178877                               Farm Aid  \n",
      "181908                 Massachusetts (for Ma)  \n",
      "188908            \"Knockin' On Heaven's Door\"  \n",
      "195259                              The Byrds  \n",
      "197585                          Woody Guthrie  \n",
      "199636                              Zimmerman  \n",
      "213420                 the Traveling Wilburys  \n",
      "214278                                     61  \n",
      "36\n"
     ]
    }
   ],
   "source": [
    "from pandas import DataFrame\n",
    "\n",
    "def filter_dataset_list_words(dataset: DataFrame,list_words: list[str]):\n",
    "    for word in list_words:\n",
    "        pattern = rf'\\b{word}\\b' #search for entire word inside long string, excluding substrings\n",
    "        dataset = dataset[(dataset.question.str.contains(pattern, regex=True,case=False))]\n",
    "    return dataset\n",
    "\n",
    "questions_filtered = filter_dataset_list_words(jeopardy_dataset,['Bob','dylan'])\n",
    "print(questions_filtered)\n",
    "print(len(questions_filtered))"
   ]
  },
  {
   "cell_type": "markdown",
   "metadata": {},
   "source": [
    "4. We may want to eventually compute aggregate statistics, like `.mean()` on the `\" Value\"` column. But right now, the values in that column are strings. Convert the`\" Value\"` column to floats. If you'd like to, you can create a new column with float values.\n",
    "\n",
    "   While most of the values in the `\" Value\"` column represent a dollar amount as a string, note that some do not &mdash; these values will need to be handled differently!\n",
    "\n",
    "   Now that you can filter the dataset of question, use your new column that contains the float values of each question to find the \"difficulty\" of certain topics. For example, what is the average value of questions that contain the word `\"King\"`?\n",
    "   \n",
    "   Make sure to use the dataset that contains the float values as the dataset you use in your filtering function."
   ]
  },
  {
   "cell_type": "code",
   "execution_count": 60,
   "metadata": {},
   "outputs": [
    {
     "name": "stdout",
     "output_type": "stream",
     "text": [
      "40        <a href=\"http://www.j-archive.com/media/2004-1...\n",
      "50        <a href=\"http://www.j-archive.com/media/2004-1...\n",
      "399       Between 1842 & 1885, he repeatedly revised his...\n",
      "545       Robin Quivers is the radio consort of this sel...\n",
      "781       A Norman could say, \"I'm the king of the motte...\n",
      "                                ...                        \n",
      "216612    Her 2 husbands were Uriah the Hittite & David ...\n",
      "216675    Stephen King's 1980 overview of the horror gen...\n",
      "216752    Upon signing his name in 1776 he said, \"There,...\n",
      "216777    The first one of these tombs was built about 2...\n",
      "216787    A Hoffmann tale title lost the words \"And The ...\n",
      "Name: question, Length: 2744, dtype: object\n",
      "Average value for this set is  817.6001483679526\n"
     ]
    }
   ],
   "source": [
    "#jeopardy_dataset.value = jeopardy_dataset.value.apply(lambda row: row.replace(',',''))\n",
    "#jeopardy_dataset.value = jeopardy_dataset.value.apply(lambda row: row.replace('$',''))\n",
    "#jeopardy_dataset.value = jeopardy_dataset.value.apply(lambda row: row.replace('no value',''))\n",
    "#jeopardy_dataset.value = jeopardy_dataset.value.apply(lambda row: float(row))\n",
    "jeopardy_dataset.value = jeopardy_dataset.value.apply(lambda row: '' if row == 0 else row)\n",
    "\n",
    "filtered_dataset = filter_dataset_list_words(jeopardy_dataset, ['King'])\n",
    "print(filtered_dataset.question)\n",
    "print('Average value for this set is ', filtered_dataset[filtered_dataset.value != ''].value.mean())"
   ]
  },
  {
   "cell_type": "markdown",
   "metadata": {},
   "source": [
    "5. Write a function that returns the count of unique answers to all of the questions in a dataset. For example, after filtering the entire dataset to only questions containing the word `\"King\"`, we could then find all of the unique answers to those questions. The answer \"Henry VIII\" appeared 55 times and was the most common answer."
   ]
  },
  {
   "cell_type": "code",
   "execution_count": 66,
   "metadata": {},
   "outputs": [
    {
     "name": "stdout",
     "output_type": "stream",
     "text": [
      "['Yertle' 'Bartholomew Cubbins' 'Alfred Lord Tennyson' ...\n",
      " 'Leslie Nielsen' '(John) Hancock' 'a pyramid (the pyramids accepted)']\n",
      "Number of unique answer for this dataset is 1499\n"
     ]
    }
   ],
   "source": [
    "def count_unique_answers(dataset:DataFrame):\n",
    "    return f'Number of unique answer for this dataset is {dataset.answer.nunique()}'\n",
    "\n",
    "print(filtered_dataset.answer.unique())\n",
    "print(count_unique_answers(filtered_dataset))"
   ]
  },
  {
   "cell_type": "markdown",
   "metadata": {},
   "source": [
    "6. Explore from here! This is an incredibly rich dataset, and there are so many interesting things to discover. There are a few columns that we haven't even started looking at yet. Here are some ideas on ways to continue working with this data:\n",
    "\n",
    " * Investigate the ways in which questions change over time by filtering by the date. How many questions from the 90s use the word `\"Computer\"` compared to questions from the 2000s?\n",
    " * Is there a connection between the round and the category? Are you more likely to find certain categories, like `\"Literature\"` in Single Jeopardy or Double Jeopardy?\n",
    " * Build a system to quiz yourself. Grab random questions, and use the <a href=\"https://docs.python.org/3/library/functions.html#input\">input</a> function to get a response from the user. Check to see if that response was right or wrong."
   ]
  },
  {
   "cell_type": "code",
   "execution_count": 100,
   "metadata": {},
   "outputs": [
    {
     "name": "stdout",
     "output_type": "stream",
     "text": [
      "Hello, i'm Python. Welcome to Jeopardy\n",
      "\"May none but honest & wise men ever rule under this roof\", said this 1st occupant of the White House\n",
      "The answer was John Adams\n"
     ]
    }
   ],
   "source": [
    "lambda_only_90s = lambda air_date : int(air_date.split('-')[0]) >= 1990 and int(air_date.split('-')[0]) <=2000\n",
    "lambda_only_00s = lambda air_date : int(air_date.split('-')[0]) >= 2000 and int(air_date.split('-')[0]) <=2010\n",
    "\n",
    "#print(len(jeopardy_dataset[jeopardy_dataset.air_date.apply(lambda_only_90s) & jeopardy_dataset.question.str.contains('computer', case=False)]))\n",
    "#print(len(jeopardy_dataset[jeopardy_dataset.air_date.apply(lambda_only_00s) & jeopardy_dataset.question.str.contains('computer', case=False)]))\n",
    "\n",
    "#print(len(jeopardy_dataset[(jeopardy_dataset['round'] == 'Jeopardy!') & (jeopardy_dataset.category =='LITERATURE')]))\n",
    "#print(len(jeopardy_dataset[(jeopardy_dataset['round'] == 'Double Jeopardy!') & (jeopardy_dataset.category =='LITERATURE')]))\n",
    "\n",
    "import random \n",
    "print(\"Hello, i'm Python. Welcome to Jeopardy\")\n",
    "question_id = random.randint(0, len(jeopardy_dataset))\n",
    "print(jeopardy_dataset.question[question_id])\n",
    "user_answer = input('What is your answer?')\n",
    "print(f'The answer was {jeopardy_dataset.answer[question_id]}')\n"
   ]
  },
  {
   "cell_type": "markdown",
   "metadata": {},
   "source": [
    "## Solution"
   ]
  },
  {
   "cell_type": "markdown",
   "metadata": {},
   "source": [
    "7. Compare your program to our <a href=\"https://content.codecademy.com/PRO/independent-practice-projects/jeopardy/jeopardy_solution.zip\">sample solution code</a> - remember, that your program might look different from ours (and probably will) and that's okay!"
   ]
  },
  {
   "cell_type": "markdown",
   "metadata": {},
   "source": [
    "8. Great work! Visit <a href=\"https://discuss.codecademy.com/t/this-is-jeopardy-challenge-project-python-pandas/462365\">our forums</a> to compare your project to our sample solution code. You can also learn how to host your own solution on GitHub so you can share it with other learners! Your solution might look different from ours, and that's okay! There are multiple ways to solve these projects, and you'll learn more by seeing others' code."
   ]
  },
  {
   "cell_type": "code",
   "execution_count": null,
   "metadata": {},
   "outputs": [],
   "source": []
  }
 ],
 "metadata": {
  "kernelspec": {
   "display_name": "venv",
   "language": "python",
   "name": "python3"
  },
  "language_info": {
   "codemirror_mode": {
    "name": "ipython",
    "version": 3
   },
   "file_extension": ".py",
   "mimetype": "text/x-python",
   "name": "python",
   "nbconvert_exporter": "python",
   "pygments_lexer": "ipython3",
   "version": "3.10.12"
  }
 },
 "nbformat": 4,
 "nbformat_minor": 4
}
